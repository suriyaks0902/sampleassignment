{
 "cells": [
  {
   "cell_type": "code",
   "execution_count": 18,
   "id": "27da0778",
   "metadata": {},
   "outputs": [],
   "source": [
    "import pandas as pd\n",
    "import numpy as np\n",
    "import sqlite3 as sql"
   ]
  },
  {
   "cell_type": "code",
   "execution_count": 19,
   "id": "b495550e",
   "metadata": {},
   "outputs": [],
   "source": [
    "#create connection to database file\n",
    "database = \"datasample1.db\"\n",
    "connection = sql.connect(database)\n"
   ]
  },
  {
   "cell_type": "code",
   "execution_count": 20,
   "id": "56b120a5",
   "metadata": {},
   "outputs": [],
   "source": [
    "\n",
    "query = '''SELECT * from movieinfo'''\n"
   ]
  },
  {
   "cell_type": "code",
   "execution_count": 21,
   "id": "d77e028f",
   "metadata": {},
   "outputs": [
    {
     "data": {
      "text/html": [
       "<div>\n",
       "<style scoped>\n",
       "    .dataframe tbody tr th:only-of-type {\n",
       "        vertical-align: middle;\n",
       "    }\n",
       "\n",
       "    .dataframe tbody tr th {\n",
       "        vertical-align: top;\n",
       "    }\n",
       "\n",
       "    .dataframe thead th {\n",
       "        text-align: right;\n",
       "    }\n",
       "</style>\n",
       "<table border=\"1\" class=\"dataframe\">\n",
       "  <thead>\n",
       "    <tr style=\"text-align: right;\">\n",
       "      <th></th>\n",
       "      <th>movie</th>\n",
       "      <th>lead actor</th>\n",
       "      <th>actress</th>\n",
       "      <th>date of release</th>\n",
       "      <th>director</th>\n",
       "    </tr>\n",
       "  </thead>\n",
       "  <tbody>\n",
       "    <tr>\n",
       "      <th>0</th>\n",
       "      <td>Master</td>\n",
       "      <td>Vijay</td>\n",
       "      <td>Malavika mohan</td>\n",
       "      <td>13-1-2021</td>\n",
       "      <td>Lokeshkanagaraj</td>\n",
       "    </tr>\n",
       "    <tr>\n",
       "      <th>1</th>\n",
       "      <td>Mankatha</td>\n",
       "      <td>Ajith Kumar</td>\n",
       "      <td>Trisha</td>\n",
       "      <td>31-8-2011</td>\n",
       "      <td>Venkat Prabhu</td>\n",
       "    </tr>\n",
       "    <tr>\n",
       "      <th>2</th>\n",
       "      <td>Interstellar</td>\n",
       "      <td>Matthew McConaughey</td>\n",
       "      <td>Anne Hathaway</td>\n",
       "      <td>26-10-2014</td>\n",
       "      <td>Christopher Nolan</td>\n",
       "    </tr>\n",
       "    <tr>\n",
       "      <th>3</th>\n",
       "      <td>Iron Man</td>\n",
       "      <td>Robert Downey jr</td>\n",
       "      <td>Gwyneth Paltrow</td>\n",
       "      <td>14-4-2008</td>\n",
       "      <td>Jon Favreau</td>\n",
       "    </tr>\n",
       "    <tr>\n",
       "      <th>4</th>\n",
       "      <td>Dev</td>\n",
       "      <td>Karthi</td>\n",
       "      <td>Rakul Preethsingh</td>\n",
       "      <td>14-2-2019</td>\n",
       "      <td>Rajath Ravishankar</td>\n",
       "    </tr>\n",
       "  </tbody>\n",
       "</table>\n",
       "</div>"
      ],
      "text/plain": [
       "          movie           lead actor            actress date of release  \\\n",
       "0        Master                Vijay     Malavika mohan       13-1-2021   \n",
       "1      Mankatha          Ajith Kumar             Trisha       31-8-2011   \n",
       "2  Interstellar  Matthew McConaughey      Anne Hathaway      26-10-2014   \n",
       "3      Iron Man     Robert Downey jr    Gwyneth Paltrow       14-4-2008   \n",
       "4           Dev               Karthi  Rakul Preethsingh       14-2-2019   \n",
       "\n",
       "             director  \n",
       "0     Lokeshkanagaraj  \n",
       "1       Venkat Prabhu  \n",
       "2   Christopher Nolan  \n",
       "3         Jon Favreau  \n",
       "4  Rajath Ravishankar  "
      ]
     },
     "execution_count": 21,
     "metadata": {},
     "output_type": "execute_result"
    }
   ],
   "source": [
    "df=pd.read_sql_query(query,connection)\n",
    "df.head()"
   ]
  },
  {
   "cell_type": "code",
   "execution_count": 30,
   "id": "521c9614",
   "metadata": {},
   "outputs": [
    {
     "data": {
      "text/plain": [
       "movie                      Iron Man\n",
       "lead actor         Robert Downey jr\n",
       "actress             Gwyneth Paltrow\n",
       "date of release           14-4-2008\n",
       "director                Jon Favreau\n",
       "Name: 3, dtype: object"
      ]
     },
     "execution_count": 30,
     "metadata": {},
     "output_type": "execute_result"
    }
   ],
   "source": [
    "df.iloc[3]"
   ]
  },
  {
   "cell_type": "code",
   "execution_count": null,
   "id": "d0ae2cbd",
   "metadata": {},
   "outputs": [],
   "source": []
  }
 ],
 "metadata": {
  "kernelspec": {
   "display_name": "Python 3",
   "language": "python",
   "name": "python3"
  },
  "language_info": {
   "codemirror_mode": {
    "name": "ipython",
    "version": 3
   },
   "file_extension": ".py",
   "mimetype": "text/x-python",
   "name": "python",
   "nbconvert_exporter": "python",
   "pygments_lexer": "ipython3",
   "version": "3.8.8"
  }
 },
 "nbformat": 4,
 "nbformat_minor": 5
}
